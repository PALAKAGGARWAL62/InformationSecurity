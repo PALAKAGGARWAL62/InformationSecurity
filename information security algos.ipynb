{
 "cells": [
  {
   "cell_type": "code",
   "execution_count": 1,
   "metadata": {},
   "outputs": [
    {
     "name": "stdout",
     "output_type": "stream",
     "text": [
      "Enter the text: Palak Aggarwal\n",
      "Enter the key: 3\n",
      "Encrpted text:  Sdodn Djjduzdo\n",
      "Decrypted text:  Palak Aggarwal\n"
     ]
    }
   ],
   "source": [
    "# Ceaser Cipher\n",
    "\n",
    "def Encrypt(Key, PText):\n",
    "    Tokenised_text = []\n",
    "    Tokenised_text = list(PText)\n",
    "    CipherText = []\n",
    "    for x in Tokenised_text:\n",
    "        if 97<=ord(x)<=122:\n",
    "            a = (((ord(x)-97)+Key)%26)+97\n",
    "            a = chr(a)\n",
    "            CipherText.append(a)\n",
    "        elif 65<=ord(x)<=90:\n",
    "            a = (((ord(x)-65)+Key)%26)+65\n",
    "            a = chr(a)\n",
    "            CipherText.append(a)\n",
    "        else:\n",
    "            CipherText.append(x)\n",
    "    CText = ''.join(CipherText)\n",
    "    return CText\n",
    "\n",
    "def Decrypt(Key, CText):\n",
    "    Tokenised_text = []\n",
    "    Tokenised_text = list(CText)\n",
    "    PlainText = []\n",
    "    for x in Tokenised_text:\n",
    "        if 97<=ord(x)<=122:\n",
    "            a = (((ord(x)-97)-Key)%26)+97\n",
    "            a = chr(a)\n",
    "            PlainText.append(a)\n",
    "        elif 65<=ord(x)<=90:\n",
    "            a = (((ord(x)-65)-Key)%26)+65\n",
    "            a = chr(a)\n",
    "            PlainText.append(a)\n",
    "        else:\n",
    "            PlainText.append(x)\n",
    "    PText = ''.join(PlainText)\n",
    "    return PText\n",
    "\n",
    "PText = input(\"Enter the text: \")\n",
    "Key = int (input(\"Enter the key: \"))\n",
    "if 3<=Key<26:\n",
    "    CText = Encrypt(Key, PText)\n",
    "    print(\"Encrpted text: \",CText)\n",
    "    PlText = Decrypt(Key, CText)\n",
    "    print(\"Decrypted text: \",PlText)   \n",
    "else:\n",
    "    print(\"Wrong Key\")"
   ]
  },
  {
   "cell_type": "code",
   "execution_count": 2,
   "metadata": {},
   "outputs": [
    {
     "name": "stdout",
     "output_type": "stream",
     "text": [
      "Enter the text: Palak Aggarwal\n",
      "Enter the key of lenght 26 without repetition of aplhabets: ZXCVBNMQWERTYUIOPLKJHGFDSA\n",
      "ZXCVBNMQWERTYUIOPLKJHGFDSA\n",
      "Encrpted text:  OZTZR ZMMZLFZT\n",
      "Decrypted text:  palak aggarwal\n"
     ]
    }
   ],
   "source": [
    "# PolyHill Cipher\n",
    "\n",
    "def Encrypt(key, PText):\n",
    "    print (key)\n",
    "    Tokenised_text = []\n",
    "    Tokenised_text = list(PText)\n",
    "    CipherText = []\n",
    "    for x in Tokenised_text:\n",
    "        if 97<=ord(x)<=122:\n",
    "            a = (ord(x)-97)\n",
    "            CipherText.append(key[a])\n",
    "        elif 65<=ord(x)<=90:\n",
    "            a = (ord(x)-65)\n",
    "            CipherText.append(key[a])\n",
    "        else:\n",
    "            CipherText.append(x)\n",
    "    CText = ''.join(CipherText)\n",
    "    return CText\n",
    "\n",
    "def Decrypt(key, CText):\n",
    "    Tokenised_text = []\n",
    "    Tokenised_text = list(CText)\n",
    "    PlainText = []\n",
    "    for x in Tokenised_text:\n",
    "        if x in key:\n",
    "            a = key.index(x)\n",
    "            PlainText.append(chr(a+97))\n",
    "        else:\n",
    "            PlainText.append(x)\n",
    "    PText = ''.join(PlainText)\n",
    "    return PText\n",
    "\n",
    "key = []\n",
    "PText = input(\"Enter the text: \")\n",
    "Key = (input(\"Enter the key of lenght 26 without repetition of aplhabets: \"))\n",
    "key = list(Key)\n",
    "if len(key)==26:\n",
    "    for x in key:\n",
    "        if 97<=ord(x)<=122 or 65<=ord(x)<=90:\n",
    "              continue\n",
    "        else:\n",
    "            print(\"Wrong key\")\n",
    "    CText = Encrypt(Key, PText)\n",
    "    print(\"Encrpted text: \",CText)\n",
    "    PlText = Decrypt(Key, CText)\n",
    "    print(\"Decrypted text: \",PlText)"
   ]
  },
  {
   "cell_type": "code",
   "execution_count": null,
   "metadata": {},
   "outputs": [],
   "source": []
  }
 ],
 "metadata": {
  "kernelspec": {
   "display_name": "Python 3",
   "language": "python",
   "name": "python3"
  },
  "language_info": {
   "codemirror_mode": {
    "name": "ipython",
    "version": 3
   },
   "file_extension": ".py",
   "mimetype": "text/x-python",
   "name": "python",
   "nbconvert_exporter": "python",
   "pygments_lexer": "ipython3",
   "version": "3.6.5"
  }
 },
 "nbformat": 4,
 "nbformat_minor": 2
}
