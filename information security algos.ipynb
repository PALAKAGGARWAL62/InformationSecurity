{
 "cells": [
  {
   "cell_type": "code",
   "execution_count": 66,
   "metadata": {},
   "outputs": [
    {
     "name": "stdout",
     "output_type": "stream",
     "text": [
      "Enter the text: Palak Aggarwal\n",
      "Enter the key: 3\n",
      "Encrpted text:  Sdodn Djjduzdo\n",
      "Decrypted text:  Palak Aggarwal\n"
     ]
    }
   ],
   "source": [
    "# Ceaser Cipher\n",
    "\n",
    "def Encrypt(Key, PText):\n",
    "    Tokenised_text = []\n",
    "    Tokenised_text = list(PText)\n",
    "    CipherText = []\n",
    "    for x in Tokenised_text:\n",
    "        if 97<=ord(x)<=122:\n",
    "            a = (((ord(x)-97)+Key)%26)+97\n",
    "            a = chr(a)\n",
    "            CipherText.append(a)\n",
    "        elif 65<=ord(x)<=90:\n",
    "            a = (((ord(x)-65)+Key)%26)+65\n",
    "            a = chr(a)\n",
    "            CipherText.append(a)\n",
    "        else:\n",
    "            CipherText.append(x)\n",
    "    CText = ''.join(CipherText)\n",
    "    return CText\n",
    "\n",
    "def Decrypt(Key, CText):\n",
    "    Tokenised_text = []\n",
    "    Tokenised_text = list(CText)\n",
    "    PlainText = []\n",
    "    for x in Tokenised_text:\n",
    "        if 97<=ord(x)<=122:\n",
    "            a = (((ord(x)-97)-Key)%26)+97\n",
    "            a = chr(a)\n",
    "            PlainText.append(a)\n",
    "        elif 65<=ord(x)<=90:\n",
    "            a = (((ord(x)-65)-Key)%26)+65\n",
    "            a = chr(a)\n",
    "            PlainText.append(a)\n",
    "        else:\n",
    "            PlainText.append(x)\n",
    "    PText = ''.join(PlainText)\n",
    "    return PText\n",
    "\n",
    "PText = input(\"Enter the text: \")\n",
    "Key = int (input(\"Enter the key: \"))\n",
    "if 3<=Key<26:\n",
    "    CText = Encrypt(Key, PText)\n",
    "    print(\"Encrpted text: \",CText)\n",
    "    PlText = Decrypt(Key, CText)\n",
    "    print(\"Decrypted text: \",PlText)   \n",
    "else:\n",
    "    print(\"Wrong Key\")"
   ]
  },
  {
   "cell_type": "code",
   "execution_count": 65,
   "metadata": {},
   "outputs": [
    {
     "name": "stdout",
     "output_type": "stream",
     "text": [
      "Enter the text: \n",
      "Z\n",
      "Enter the key\n",
      "7\n",
      "Encrpted text:  G\n",
      "Decrypted text:  Z\n"
     ]
    }
   ],
   "source": [
    "# PolyHill Cipher\n",
    "\n",
    "# Ceaser Cipher\n",
    "\n",
    "def Encrypt(Key, PText):\n",
    "    Tokenised_text = []\n",
    "    Tokenised_text = list(PText)\n",
    "    CipherText = []\n",
    "    for x in Tokenised_text:\n",
    "        if 97<=ord(x)<=122:\n",
    "            a = (((ord(x)-97)+Key)%26)+97\n",
    "            a = chr(a)\n",
    "            CipherText.append(a)\n",
    "        elif 65<=ord(x)<=90:\n",
    "            a = (((ord(x)-65)+Key)%26)+65\n",
    "            a = chr(a)\n",
    "            CipherText.append(a)\n",
    "        else:\n",
    "            CipherText.append(x)\n",
    "    CText = ''.join(CipherText)\n",
    "    return CText\n",
    "\n",
    "def Decrypt(Key, CText):\n",
    "    Tokenised_text = []\n",
    "    Tokenised_text = list(CText)\n",
    "    PlainText = []\n",
    "    for x in Tokenised_text:\n",
    "        if 97<=ord(x)<=122:\n",
    "            a = (((ord(x)-97)-Key)%26)+97\n",
    "            a = chr(a)\n",
    "            PlainText.append(a)\n",
    "        elif 65<=ord(x)<=90:\n",
    "            a = (((ord(x)-65)-Key)%26)+65\n",
    "            a = chr(a)\n",
    "            PlainText.append(a)\n",
    "        else:\n",
    "            PlainText.append(x)\n",
    "    PText = ''.join(PlainText)\n",
    "    return PText\n",
    "\n",
    "PText = input(\"Enter the text: \")\n",
    "Key = int (input(\"Enter the key: \"))\n",
    "if 3<=Key<26:\n",
    "    CText = Encrypt(Key, PText)\n",
    "    print(\"Encrpted text: \",CText)\n",
    "    PlText = Decrypt(Key, CText)\n",
    "    print(\"Decrypted text: \",PlText)   \n",
    "else:\n",
    "    print(\"Wrong Key\")"
   ]
  }
 ],
 "metadata": {
  "kernelspec": {
   "display_name": "Python 3",
   "language": "python",
   "name": "python3"
  },
  "language_info": {
   "codemirror_mode": {
    "name": "ipython",
    "version": 3
   },
   "file_extension": ".py",
   "mimetype": "text/x-python",
   "name": "python",
   "nbconvert_exporter": "python",
   "pygments_lexer": "ipython3",
   "version": "3.6.5"
  }
 },
 "nbformat": 4,
 "nbformat_minor": 2
}
