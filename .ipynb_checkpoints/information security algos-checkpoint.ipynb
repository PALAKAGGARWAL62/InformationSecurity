{
 "cells": [
  {
   "cell_type": "code",
   "execution_count": 63,
   "metadata": {},
   "outputs": [],
   "source": [
    "def Encrypt(Key, PText):\n",
    "    Tokenised_text = []\n",
    "    Tokenised_text = list(PText)\n",
    "    CipherText = []\n",
    "    for x in Tokenised_text:\n",
    "        if 97<=ord(x)<=122:\n",
    "            a = (((ord(x)-97)+Key)%26)+97\n",
    "            a = chr(a)\n",
    "            CipherText.append(a)\n",
    "        elif 65<=ord(x)<=90:\n",
    "            a = (((ord(x)-65)+Key)%26)+65\n",
    "            a = chr(a)\n",
    "            CipherText.append(a)\n",
    "        else:\n",
    "            CipherText.append(x)\n",
    "    CText = ''.join(CipherText)\n",
    "    return CText\n",
    "\n",
    "def Decrypt(Key, CText):\n",
    "    Tokenised_text = []\n",
    "    Tokenised_text = list(CText)\n",
    "    PlainText = []\n",
    "    for x in Tokenised_text:\n",
    "        if 97<=ord(x)<=122:\n",
    "            a = (((ord(x)-97)-Key)%26)+97\n",
    "            a = chr(a)\n",
    "            PlainText.append(a)\n",
    "        elif 65<=ord(x)<=90:\n",
    "            a = (((ord(x)-65)-Key)%26)+65\n",
    "            a = chr(a)\n",
    "            PlainText.append(a)\n",
    "        else:\n",
    "            PlainText.append(x)\n",
    "    PText = ''.join(PlainText)\n",
    "    return PText"
   ]
  },
  {
   "cell_type": "code",
   "execution_count": 65,
   "metadata": {},
   "outputs": [
    {
     "name": "stdout",
     "output_type": "stream",
     "text": [
      "Enter the text: \n",
      "Z\n",
      "Enter the key\n",
      "7\n",
      "Encrpted text:  G\n",
      "Decrypted text:  Z\n"
     ]
    }
   ],
   "source": [
    "PText = input(\"Enter the text: \")\n",
    "Key = int (input(\"Enter the key: \"))\n",
    "if 3<=Key<26:\n",
    "    CText = Encrypt(Key, PText)\n",
    "    print(\"Encrpted text: \",CText)\n",
    "    PlText = Decrypt(Key, CText)\n",
    "    print(\"Decrypted text: \",PlText)   \n",
    "else:\n",
    "    print(\"Wrong Key\")\n"
   ]
  },
  {
   "cell_type": "code",
   "execution_count": 21,
   "metadata": {},
   "outputs": [
    {
     "name": "stdout",
     "output_type": "stream",
     "text": [
      "123\n"
     ]
    }
   ],
   "source": [
    "list1 = ['1', '2', '3']\n",
    "str1 = ''.join(list1)\n",
    "print(str1)"
   ]
  },
  {
   "cell_type": "code",
   "execution_count": 40,
   "metadata": {},
   "outputs": [
    {
     "name": "stdout",
     "output_type": "stream",
     "text": [
      "122\n"
     ]
    }
   ],
   "source": [
    "print (ord(\"z\"))"
   ]
  },
  {
   "cell_type": "code",
   "execution_count": null,
   "metadata": {},
   "outputs": [],
   "source": []
  }
 ],
 "metadata": {
  "kernelspec": {
   "display_name": "Python 3",
   "language": "python",
   "name": "python3"
  },
  "language_info": {
   "codemirror_mode": {
    "name": "ipython",
    "version": 3
   },
   "file_extension": ".py",
   "mimetype": "text/x-python",
   "name": "python",
   "nbconvert_exporter": "python",
   "pygments_lexer": "ipython3",
   "version": "3.6.5"
  }
 },
 "nbformat": 4,
 "nbformat_minor": 2
}
